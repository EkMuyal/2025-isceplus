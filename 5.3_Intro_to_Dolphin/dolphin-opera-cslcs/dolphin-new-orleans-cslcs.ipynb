{
 "cells": [
  {
   "cell_type": "markdown",
   "id": "68148d83-cc69-45f8-aa27-31b0e9caf3e9",
   "metadata": {},
   "source": [
    "# Dolphin walkthrough for OPERA geocoded CSLCs\n",
    "\n",
    "This notebook demonstrates the basic usage of the `dolphin` command line tool to execute the stack-based phase linking workflow.\n",
    "In this notebook, we will\n",
    "\n",
    "- Download geocoded, co-registered single-look complex (CSLC) radar images from [ASF](https://search.asf.alaska.edu/)\n",
    "- Prepare a configuration file for a stack of coregistered single-look complex (SLC) radar images with `dolphin config`\n",
    "- Run this configuration file with `dolphin run` \n",
    "- Inspect the resulting output interferograms\n",
    "- Show the most common parameters you may want to change or customize\n"
   ]
  },
  {
   "cell_type": "markdown",
   "id": "278134de",
   "metadata": {},
   "source": [
    "\n",
    "## Setup\n",
    "\n",
    "We first need to install `dolphin` as outlined in the [Getting Started](https://dolphin-insar.readthedocs.io/en/latest/getting-started/) section of the documentation. You can install `dolphin` with either `conda` (recommended) or `pip` (if a `gdal` installation is availble to the environment)\n"
   ]
  },
  {
   "cell_type": "markdown",
   "id": "efb9c4d2",
   "metadata": {},
   "source": [
    "We can check that we have the command line tool correctly installed by running:"
   ]
  },
  {
   "cell_type": "code",
   "execution_count": 1,
   "id": "f17e1738",
   "metadata": {},
   "outputs": [
    {
     "name": "stdout",
     "output_type": "stream",
     "text": [
      "\u001b[1musage\u001b[0m: dolphin [-h] \u001b[1m{run,config,unwrap,timeseries,filter}\u001b[0m\n",
      "\n",
      "\u001b[2m╭─\u001b[0m\u001b[2m options \u001b[0m\u001b[2m─────────────────────────────────────────────────────────────────\u001b[0m\u001b[2m─╮\u001b[0m\n",
      "\u001b[2m│\u001b[0m -h, --help        \u001b[2mshow this help message and exit\u001b[0m                          \u001b[2m│\u001b[0m\n",
      "\u001b[2m╰────────────────────────────────────────────────────────────────────────────╯\u001b[0m\n",
      "\u001b[2m╭─\u001b[0m\u001b[2m subcommands \u001b[0m\u001b[2m─────────────────────────────────────────────────────────────\u001b[0m\u001b[2m─╮\u001b[0m\n",
      "\u001b[2m│\u001b[0m {run,config,unwrap,timeseries,filter}                                      \u001b[2m│\u001b[0m\n",
      "\u001b[2m│\u001b[0m     run           \u001b[2mRun the displacement workflow.\u001b[0m                           \u001b[2m│\u001b[0m\n",
      "\u001b[2m│\u001b[0m     config        \u001b[2mCreate a configuration file for a displacement workflow.\u001b[0m \u001b[2m│\u001b[0m\n",
      "\u001b[2m│\u001b[0m     unwrap        \u001b[2mRun snaphu on all interferograms in a directory.\u001b[0m         \u001b[2m│\u001b[0m\n",
      "\u001b[2m│\u001b[0m     timeseries    \u001b[2mInvert the unwrapped interferograms, estimate timeseries\u001b[0m \u001b[2m│\u001b[0m\n",
      "\u001b[2m│\u001b[0m                   \u001b[2mand phase velocity.\u001b[0m                                      \u001b[2m│\u001b[0m\n",
      "\u001b[2m│\u001b[0m     filter        \u001b[2mFilter a list of unwrapped interferogram files using a \u001b[0m  \u001b[2m│\u001b[0m\n",
      "\u001b[2m│\u001b[0m                   \u001b[2mlong-wavelength filter.\u001b[0m                                  \u001b[2m│\u001b[0m\n",
      "\u001b[2m╰────────────────────────────────────────────────────────────────────────────╯\u001b[0m\n",
      "\u001b[0m"
     ]
    }
   ],
   "source": [
    "!dolphin --help"
   ]
  },
  {
   "cell_type": "markdown",
   "id": "0aa61da3",
   "metadata": {},
   "source": [
    "or by importing dolphin in python"
   ]
  },
  {
   "cell_type": "code",
   "execution_count": 2,
   "id": "6fbdc0e5",
   "metadata": {},
   "outputs": [
    {
     "name": "stdout",
     "output_type": "stream",
     "text": [
      "dolphin version: 0.42.0\n",
      "\n",
      "Python deps:\n",
      "        h5py: 3.14.0\n",
      "         jax: 0.7.0\n",
      "       numba: 0.61.2\n",
      "       numpy: 2.2.6\n",
      " opera-utils: 0.24.0\n",
      "    pydantic: 2.11.7\n",
      "      pyproj: 3.7.2\n",
      "    rasterio: 1.4.3\n",
      " ruamel_yaml: None\n",
      "       scipy: 1.16.1\n",
      "      snaphu: 0.4.1\n",
      "threadpoolctl: 3.6.0\n",
      "        tqdm: 4.67.1\n",
      "        tyro: 0.9.28\n",
      "  osgeo.gdal: 3.10.3\n",
      "\n",
      "System:\n",
      "      python: 3.12.11 | packaged by conda-forge | (main, Jun  4 2025, 14:45:31) [GCC 13.3.0]\n",
      "  executable: /home/jovyan/.local/envs/dolphin_env/bin/python\n",
      "     machine: Linux-6.12.37-61.105.amzn2023.x86_64-x86_64-with-glibc2.35\n",
      "Unwrapping packages:\n",
      "snaphu : 0.4.1\n",
      "spurt : None\n",
      "isce3 : None\n",
      "tophu : None\n",
      "whirlwind : None\n",
      "      snaphu: 0.4.1\n",
      "       spurt: None\n",
      "       isce3: None\n",
      "       tophu: None\n",
      "   whirlwind: None\n",
      "optional GPU info:\n",
      "         jax: 0.7.0\n",
      "gpu_is_available: False\n"
     ]
    }
   ],
   "source": [
    "import dolphin\n",
    "\n",
    "dolphin.show_versions()"
   ]
  },
  {
   "cell_type": "markdown",
   "id": "8c5d63e2",
   "metadata": {},
   "source": [
    "If you have a GPU available to you, you can follow the [extra installation set up](https://dolphin-insar.readthedocs.io/en/latest/gpu-setup/) so that the GPU verion of the workflow run.\n",
    "This can be 5-20x faster than the CPU version for the phase linking portion, depending on the size of your workstation.\n",
    "Here we will be processing a relatively small area, so the CPU will suffice."
   ]
  },
  {
   "cell_type": "markdown",
   "id": "285a8f28",
   "metadata": {},
   "source": [
    "## Input dataset\n",
    "\n",
    "To find input data, you can use the [ASF search UI](https://search.asf.alaska.edu/) to explore and get a list of URLs to download; for our purposes, we will use the [OPERA Co-regisred Single-look Complex product](https://www.jpl.nasa.gov/go/opera/products/cslc-product-suite), which `dolphin` can directly process.\n",
    "\n",
    "The helper functions in the [`opera-utils`](https://github.com/opera-adt/opera-utils) library provide wrappers over the [ASF library](https://github.com/asfadmin/Discovery-asf_search) to make it easy to download OPERA CSLCs over a certain region.\n",
    "Additionally, `opera-utils` has the ability to filter queries with \"missing bursts\" (due to irregular Sentinel-1 acquisitions over North America) to ensure that all dates present have the same spatial coverage.\n",
    "\n",
    "We will search for a stack of Sentinel-1 SLCs over New Orleans (ascending track 165)."
   ]
  },
  {
   "cell_type": "markdown",
   "id": "bd430ecc",
   "metadata": {},
   "source": [
    "Since ASF requires a login to download data, you must authenticate with your Earthdata credentials.\n",
    "We will assume that a `~/.netrc` file is set up with the correct permissions."
   ]
  },
  {
   "cell_type": "code",
   "execution_count": 3,
   "id": "9c42f9f4",
   "metadata": {},
   "outputs": [
    {
     "name": "stderr",
     "output_type": "stream",
     "text": [
      "/home/jovyan/.local/envs/dolphin_env/lib/python3.12/site-packages/tzlocal/unix.py:198: UserWarning: Can not find any timezone configuration, defaulting to UTC.\n",
      "  warnings.warn(\"Can not find any timezone configuration, defaulting to UTC.\")\n"
     ]
    },
    {
     "name": "stdout",
     "output_type": "stream",
     "text": [
      "Found 44 CSLCs to download between 2022-01-01 and 2023-01-01\n"
     ]
    }
   ],
   "source": [
    "from pathlib import Path\n",
    "\n",
    "import shapely\n",
    "import opera_utils.download\n",
    "\n",
    "aoi = \"POLYGON((-90.3038 29.8923,-90.0278 29.8992,-90.0262 30.0538,-90.3205 30.06,-90.3038 29.8923))\"\n",
    "start = \"2022-01-01\"\n",
    "end = \"2023-01-01\"\n",
    "burst_ids = [\"T165-352434-IW2\", \"T165-352435-IW2\"]\n",
    "bounds = shapely.from_wkt(aoi).bounds\n",
    "\n",
    "\n",
    "results, options = opera_utils.download.search_cslcs(\n",
    "    burst_ids=burst_ids,\n",
    "    start=start,\n",
    "    end=end,\n",
    "    # We want to have the same set of dates for each Burst ID (spatial footprint)\n",
    "    check_missing_data=True,\n",
    "    # We have already picked out the Burst Ids that we will use.\n",
    "    # An alternative is to use a WKT polygon, with or without a track number specified\n",
    "    # aoi_polygon=aoi,\n",
    ")\n",
    "best_option = options[0]\n",
    "print(f\"Found {len(best_option.inputs)} CSLCs to download between {start} and {end}\")\n"
   ]
  },
  {
   "cell_type": "code",
   "execution_count": 4,
   "id": "2b6dfd9a",
   "metadata": {},
   "outputs": [],
   "source": [
    "import os\n",
    "\n",
    "import asf_search as asf\n",
    "\n",
    "work_dir = Path(\"new-orleans\")\n",
    "work_dir.mkdir(parents=True, exist_ok=True)\n",
    "os.chdir(work_dir)\n",
    "\n",
    "slc_dir = Path(\"input_slcs\")\n",
    "slc_dir.mkdir(parents=True, exist_ok=True)\n",
    "asf.download_urls(best_option.inputs, path=slc_dir)"
   ]
  },
  {
   "cell_type": "markdown",
   "id": "b68bd720",
   "metadata": {},
   "source": [
    "In the `input_slcs` directory, we have stored the NetCDF-format SLCs:"
   ]
  },
  {
   "cell_type": "code",
   "execution_count": 5,
   "id": "460e3d3a",
   "metadata": {},
   "outputs": [
    {
     "name": "stdout",
     "output_type": "stream",
     "text": [
      "OPERA_L2_CSLC-S1_T165-352434-IW2_20220108T000229Z_20240731T082832Z_S1A_VV_v1.1.h5\n",
      "OPERA_L2_CSLC-S1_T165-352434-IW2_20220120T000228Z_20240731T110350Z_S1A_VV_v1.1.h5\n",
      "OPERA_L2_CSLC-S1_T165-352434-IW2_20220201T000228Z_20240731T144900Z_S1A_VV_v1.1.h5\n"
     ]
    }
   ],
   "source": [
    "!ls input_slcs | head -3"
   ]
  },
  {
   "cell_type": "markdown",
   "id": "8ec7f72a",
   "metadata": {},
   "source": [
    "See the [OPERA CSLC documentation](https://d2pn8kiwq2w21t.cloudfront.net/documents/OPERA_CSLC-S1_ProductSpec_v1.0.0_D-108278_Initial_2023-09-11_URS321269.pdf) for the full filename convention, but the main points are\n",
    "\n",
    "- `T165` is Sentinel-1 track (relative orbit) 165\n",
    "- 352434 the Burst IDs from [ESA's Burst database](https://sar-mpc.eu/test-data-sets/)\n",
    "- `IW2` indicates these are from the first subswath (since the \"Burst ID\" is repeated for subswaths IW1,2,3.)\n",
    "- `20220108T000229Z` is the acquisition datetime (in UTC)\n",
    "\n",
    "Note that we specified the data we want is in `/data/VV`. This is not necessary for other SLC formats (e.g. binary files from ISCE2) which have only one raster layer.\n",
    "\n",
    "You can process one single stack, or multiple geocoded stacks. If you have different spatial regions, as is the case with OPERA CSLCs, `dolphin` will form burst-wise interferograms and stitch them before unwrapping."
   ]
  },
  {
   "cell_type": "markdown",
   "id": "d595e716",
   "metadata": {},
   "source": [
    "Let's make a configuration file for all of the bursts:"
   ]
  },
  {
   "cell_type": "code",
   "execution_count": 6,
   "id": "79f9734d",
   "metadata": {},
   "outputs": [
    {
     "name": "stdout",
     "output_type": "stream",
     "text": [
      "Saving configuration to dolphin_config.yaml\n",
      "\u001b[0m"
     ]
    }
   ],
   "source": [
    "!dolphin config --slc-files input_slcs/*.h5 --subdataset \"/data/VV\""
   ]
  },
  {
   "cell_type": "markdown",
   "id": "34f2d018-e136-4315-800d-b2528e5885c3",
   "metadata": {},
   "source": [
    "You can inspect the YAML file to see all configuration options."
   ]
  },
  {
   "cell_type": "markdown",
   "id": "6e0839fd-a3ac-4604-b7be-d72f5002aa0c",
   "metadata": {},
   "source": [
    "### Common configuration\n",
    "\n",
    "#### Strides\n",
    "You can create a downsampled version of the output using `--output-options.strides.x` (or `--sx` for short) and `--sy`. \n",
    "This will save time/space by creation an output with coarser pixel spacing than your SLCs.\n",
    "For COMPASS outputs, adding `--sx 6 --sy 3` will convert the inputs at (5m, 10m) in `(x, y)` (aka `(easting, northing)`) to a (30 meter, 30 meter) output.\n",
    "\n",
    "\n",
    "#### Specify the working directory\n",
    "\n",
    "Use `--work-directory` to save all rasters to a different directory other than the one you call `dolphin run` from.\n",
    "\n",
    "#### Specify how many bursts, or patches, to process in parallel\n",
    "\n",
    "By adding the `--n-parallel-bursts`, you can process separate geocoded bursts at the same time (assuming sufficient resources are available). On a large single stack (like the flat binary files from isce2, or NISAR swaths), this option controls the number of parallel blocks to process during phase linking.\n",
    "\n",
    "Additionally, use `--threads-per-worker` to limit the number of CPUs you would like the workflow to use, especially on large workstations.\n",
    "\n",
    "#### Mini-stack size for phase linking\n",
    "\n",
    "When processing many (dozens to hundreds) of SLCs, `dolphin` will use the strategy of batching SLCs into \"mini-stacks\", rather than processing the entire stack at once. The default is to use batch of 15 dates at a time, but this can be changed with `--phase-linking.ministack-size` or `--ms`. For example, you may want to try processing all dates at once (likely a slower processing time), or you may want to adjust the number slightly (if, e.g., you have 46 dates and would rather not leave the last batch with one remaining).\n",
    "\n",
    "#### Phase unwrapping\n",
    "\n",
    "`dolphin` supports multiple options for phase unwrapping. Here, we will use the [Python wrapper for SNAPHU](https://github.com/isce-framework/snaphu-py), one of the most widely used phase unwrapping algorithms.\n",
    "\n",
    "#### Bounds subsetting\n",
    "\n",
    "If you are interested in a smaller subset of the area, you can specify the `--output-bounds` to force the raster boundaries."
   ]
  },
  {
   "cell_type": "code",
   "execution_count": 7,
   "id": "9f793fb3-72ed-4e1c-8015-1fb2912f6f28",
   "metadata": {},
   "outputs": [
    {
     "name": "stdout",
     "output_type": "stream",
     "text": [
      "download: s3://earthscope-insar2025/dolphin-opera-cslcs/water_mask.tif to ./water_mask.tif\n"
     ]
    }
   ],
   "source": [
    "!aws s3 cp s3://earthscope-insar2025/dolphin-opera-cslcs/water_mask.tif ./"
   ]
  },
  {
   "cell_type": "code",
   "execution_count": 30,
   "id": "fa206cad-bb7e-4519-b031-bcc7f7bb0fd8",
   "metadata": {},
   "outputs": [
    {
     "name": "stderr",
     "output_type": "stream",
     "text": [
      "Saving configuration to dolphin_config.yaml\n"
     ]
    }
   ],
   "source": [
    "%%bash\n",
    "dolphin config \\\n",
    "    --slc-files input_slcs/*.h5 \\\n",
    "    --subdataset \"/data/VV\" \\\n",
    "    --mask-file water_mask.tif \\\n",
    "    --sx 6 --sy 3 \\\n",
    "    --interferogram-network.max-bandwidth 3 \\\n",
    "    --n-parallel-bursts 2 \\\n",
    "    --ms 16 \\\n",
    "    --unwrap-options.n-parallel-jobs 3 \\\n",
    "    --output-options.bounds -90.3205 29.8923 -90.0262 30.06 \\\n",
    "    --unwrap-options.snaphu-options.ntiles 2 2 --unwrap-options.snaphu-options.tile-overlap 400 400 \\\n",
    "    --unwrap-options.snaphu-options.n-parallel-tiles 4 \\\n",
    "    --work-directory dolphin\n"
   ]
  },
  {
   "cell_type": "markdown",
   "id": "86b68b7c",
   "metadata": {},
   "source": [
    "## Running the workflow\n",
    "\n",
    "Now that we have created the `dolphin_config.yaml` file, we can run it using `dolphin run`"
   ]
  },
  {
   "cell_type": "code",
   "execution_count": null,
   "id": "d2cdb4cc",
   "metadata": {
    "scrolled": true
   },
   "outputs": [
    {
     "name": "stderr",
     "output_type": "stream",
     "text": [
      "[INFO|wrapped_phase|L103] 2025-08-20T21:14:36+0000: Running wrapped phase estimation in /home/jovyan/new-orleans/dolphin/t165_352434_iw2\n",
      "[INFO|wrapped_phase|L103] 2025-08-20T21:14:36+0000: Running wrapped phase estimation in /home/jovyan/new-orleans/dolphin/t165_352435_iw2\n",
      "[INFO|masking|L228] 2025-08-20T21:14:37+0000: Skipping /home/jovyan/new-orleans/dolphin/t165_352434_iw2/bounds_mask.tif since it already exists.\n",
      "[INFO|masking|L228] 2025-08-20T21:14:37+0000: Skipping /home/jovyan/new-orleans/dolphin/t165_352435_iw2/bounds_mask.tif since it already exists.\n",
      "[INFO|wrapped_phase|L147] 2025-08-20T21:14:37+0000: Skipping making existing PS file /home/jovyan/new-orleans/dolphin/t165_352435_iw2/PS/ps_pixels.tif\n",
      "[INFO|wrapped_phase|L147] 2025-08-20T21:14:37+0000: Skipping making existing PS file /home/jovyan/new-orleans/dolphin/t165_352434_iw2/PS/ps_pixels.tif\n",
      "[INFO|ps|L306] 2025-08-20T21:14:37+0000: Saving a looked PS mask to /home/jovyan/new-orleans/dolphin/t165_352435_iw2/PS/ps_pixels_looked.tif\n",
      "[INFO|ps|L309] 2025-08-20T21:14:37+0000: /home/jovyan/new-orleans/dolphin/t165_352435_iw2/PS/ps_pixels_looked.tif exists, skipping.\n",
      "[INFO|ps|L331] 2025-08-20T21:14:37+0000: /home/jovyan/new-orleans/dolphin/t165_352435_iw2/PS/amp_dispersion_looked.tif exists, skipping.\n",
      "[INFO|ps|L306] 2025-08-20T21:14:37+0000: Saving a looked PS mask to /home/jovyan/new-orleans/dolphin/t165_352434_iw2/PS/ps_pixels_looked.tif\n",
      "[INFO|ps|L309] 2025-08-20T21:14:37+0000: /home/jovyan/new-orleans/dolphin/t165_352434_iw2/PS/ps_pixels_looked.tif exists, skipping.\n",
      "[INFO|ps|L331] 2025-08-20T21:14:37+0000: /home/jovyan/new-orleans/dolphin/t165_352434_iw2/PS/amp_dispersion_looked.tif exists, skipping.\n",
      "[INFO|wrapped_phase|L199] 2025-08-20T21:14:37+0000: Skipping EVD step, 22 files already exist\n",
      "[INFO|wrapped_phase|L199] 2025-08-20T21:14:37+0000: Skipping EVD step, 22 files already exist\n",
      "[INFO|wrapped_phase|L258] 2025-08-20T21:14:37+0000: wrapped_phase complete\n",
      "[INFO|wrapped_phase|L258] 2025-08-20T21:14:37+0000: wrapped_phase complete\n",
      "[INFO|wrapped_phase|L273] 2025-08-20T21:14:37+0000: Skipping interferogram step, 60 exists\n",
      "[INFO|wrapped_phase|L273] 2025-08-20T21:14:37+0000: Skipping interferogram step, 60 exists\n",
      "[INFO|_log|L102] 2025-08-20T21:14:37+0000: Total elapsed time for dolphin.workflows.wrapped_phase.run : 0.03 minutes (1.63 seconds)\n",
      "[INFO|_log|L102] 2025-08-20T21:14:37+0000: Total elapsed time for dolphin.workflows.wrapped_phase.run : 0.03 minutes (1.61 seconds)\n"
     ]
    },
    {
     "name": "stdout",
     "output_type": "stream",
     "text": [
      "\n",
      "snaphu v2.0.7\n",
      "23 parameters input from file /home/jovyan/new-orleans/dolphin/unwrapped/scratch/scratch-20220108_20220120.int/snaphu.config.7xw1lfz9.txt (23 lines total)\n",
      "\n",
      "snaphu v2.0.7\n",
      "23 parameters input from file /home/jovyan/new-orleans/dolphin/unwrapped/scratch/scratch-20221116_20221222.int/snaphu.config.w3zjzg8_.txt (23 lines total)\n",
      "\n",
      "snaphu v2.0.7\n",
      "23 parameters input from file /home/jovyan/new-orleans/dolphin/unwrapped/scratch/scratch-20220309_20220402.int/snaphu.config.j2s_c1rj.txt (23 lines total)\n",
      "Creating temporary directory /home/jovyan/new-orleans/dolphin/unwrapped/scratch/scratch-20220108_20220120.int/snaphu_tiles_6017\n",
      "Unwrapping tile at row 0, column 0 (pid 6020)\n",
      "Creating temporary directory /home/jovyan/new-orleans/dolphin/unwrapped/scratch/scratch-20221116_20221222.int/snaphu_tiles_6018\n",
      "Unwrapping tile at row 0, column 0 (pid 6021)\n",
      "Creating temporary directory /home/jovyan/new-orleans/dolphin/unwrapped/scratch/scratch-20220309_20220402.int/snaphu_tiles_6019\n",
      "Unwrapping tile at row 0, column 0 (pid 6022)\n",
      "Unwrapping tile at row 0, column 1 (pid 6023)\n",
      "Unwrapping tile at row 0, column 1 (pid 6024)\n",
      "Unwrapping tile at row 0, column 1 (pid 6025)\n",
      "Unwrapping tile at row 1, column 0 (pid 6026)\n",
      "Unwrapping tile at row 1, column 0 (pid 6027)\n",
      "Unwrapping tile at row 1, column 0 (pid 6028)\n",
      "Unwrapping tile at row 1, column 1 (pid 6029)\n",
      "Unwrapping tile at row 1, column 1 (pid 6030)\n",
      "Unwrapping tile at row 1, column 1 (pid 6031)\n",
      "Assembling tiles\n",
      "Running optimizer for secondary network\n",
      "Number of nodes in secondary network: 365\n",
      "Flow increment: 1  (Total improvements: 0)\n",
      "Flow increment: 2  (Total improvements: 1)\n",
      "Flow increment: 3  (Total improvements: 1)\n",
      "Flow increment: 4  (Total improvements: 1)\n",
      "Assembling tile connected components\n",
      "Assembled connected components (7) output written to file /home/jovyan/new-orleans/dolphin/unwrapped/scratch/scratch-20220108_20220120.int/snaphu.conncomp.vch022_l.u4\n",
      "Integrating secondary flows\n",
      "Output written to file /home/jovyan/new-orleans/dolphin/unwrapped/scratch/scratch-20220108_20220120.int/snaphu.unw.43y9gm8s.f4\n",
      "Removing temporary directory /home/jovyan/new-orleans/dolphin/unwrapped/scratch/scratch-20220108_20220120.int/snaphu_tiles_6017\n",
      "SUGGESTION: Try increasing tile overlap and/or size if solution has edge artifacts\n",
      "Program snaphu done\n",
      "Elapsed processor time:   0:00:37.58\n",
      "Elapsed wall clock time:  0:00:31\n",
      "\n",
      "snaphu v2.0.7\n",
      "15 parameters input from file /home/jovyan/new-orleans/dolphin/unwrapped/scratch/scratch-20220108_20220120.int/snaphu-regrow-conncomps.config.pbmdzojg.txt (15 lines total)\n",
      "Reading unwrapped phase from file /home/jovyan/new-orleans/dolphin/unwrapped/scratch/scratch-20220108_20220120.int/snaphu.unw.43y9gm8s.f4\n",
      "Reading interferogram magnitude from file /home/jovyan/new-orleans/dolphin/unwrapped/scratch/scratch-20220108_20220120.int/snaphu.mag.tfc51vru.f4\n",
      "Reading byte mask from file /home/jovyan/new-orleans/dolphin/unwrapped/scratch/scratch-20220108_20220120.int/snaphu.mask.drpe9d_b.u1\n",
      "No weight file specified.  Assuming uniform weights\n",
      "Reading correlation data from file /home/jovyan/new-orleans/dolphin/unwrapped/scratch/scratch-20220108_20220120.int/snaphu.corr.d6s6ejz1.f4\n",
      "Calculating smooth-solution cost parameters\n",
      "Growing connected component mask\n",
      "Writing connected components to file /home/jovyan/new-orleans/dolphin/unwrapped/scratch/scratch-20220108_20220120.int/snaphu.conncomp.vch022_l.u4 as 4-byte unsigned ints\n",
      "Program snaphu done\n",
      "Elapsed processor time:   0:00:00.17\n",
      "Elapsed wall clock time:  0:00:00\n",
      "\n",
      "snaphu v2.0.7\n",
      "23 parameters input from file /home/jovyan/new-orleans/dolphin/unwrapped/scratch/scratch-20220929_20221104.int/snaphu.config.ekhkhdfr.txt (23 lines total)\n",
      "Assembling tiles\n",
      "Running optimizer for secondary network\n",
      "Number of nodes in secondary network: 389\n",
      "Flow increment: 1  (Total improvements: 0)\n",
      "Flow increment: 2  (Total improvements: 1)\n",
      "Flow increment: 3  (Total improvements: 1)\n",
      "Flow increment: 4  (Total improvements: 1)\n",
      "Assembling tile connected components\n",
      "Assembled connected components (7) output written to file /home/jovyan/new-orleans/dolphin/unwrapped/scratch/scratch-20220309_20220402.int/snaphu.conncomp.wycv8pg5.u4\n",
      "Integrating secondary flows\n",
      "Output written to file /home/jovyan/new-orleans/dolphin/unwrapped/scratch/scratch-20220309_20220402.int/snaphu.unw.msrn8c9p.f4\n",
      "Removing temporary directory /home/jovyan/new-orleans/dolphin/unwrapped/scratch/scratch-20220309_20220402.int/snaphu_tiles_6019\n",
      "SUGGESTION: Try increasing tile overlap and/or size if solution has edge artifacts\n",
      "Program snaphu done\n",
      "Elapsed processor time:   0:00:38.67\n",
      "Elapsed wall clock time:  0:00:32\n",
      "\n",
      "snaphu v2.0.7\n",
      "15 parameters input from file /home/jovyan/new-orleans/dolphin/unwrapped/scratch/scratch-20220309_20220402.int/snaphu-regrow-conncomps.config.hh_aep88.txt (15 lines total)\n",
      "Assembling tiles\n",
      "Running optimizer for secondary network\n",
      "Number of nodes in secondary network: 410\n",
      "Flow increment: 1  (Total improvements: 0)\n",
      "Assembling tile connected components\n",
      "Assembled connected components (11) output written to file /home/jovyan/new-orleans/dolphin/unwrapped/scratch/scratch-20221116_20221222.int/snaphu.conncomp.90txxhq2.u4\n",
      "Integrating secondary flows\n",
      "Output written to file /home/jovyan/new-orleans/dolphin/unwrapped/scratch/scratch-20221116_20221222.int/snaphu.unw.qe9f1ssj.f4\n",
      "Removing temporary directory /home/jovyan/new-orleans/dolphin/unwrapped/scratch/scratch-20221116_20221222.int/snaphu_tiles_6018\n",
      "SUGGESTION: Try increasing tile overlap and/or size if solution has edge artifacts\n",
      "Program snaphu done\n",
      "Elapsed processor time:   0:00:40.58\n",
      "Elapsed wall clock time:  0:00:32\n",
      "\n",
      "snaphu v2.0.7\n",
      "15 parameters input from file /home/jovyan/new-orleans/dolphin/unwrapped/scratch/scratch-20221116_20221222.int/snaphu-regrow-conncomps.config.hunj1f7g.txt (15 lines total)\n",
      "Reading unwrapped phase from file /home/jovyan/new-orleans/dolphin/unwrapped/scratch/scratch-20220309_20220402.int/snaphu.unw.msrn8c9p.f4\n",
      "Reading interferogram magnitude from file /home/jovyan/new-orleans/dolphin/unwrapped/scratch/scratch-20220309_20220402.int/snaphu.mag.z21h4rnm.f4\n",
      "Reading byte mask from file /home/jovyan/new-orleans/dolphin/unwrapped/scratch/scratch-20220309_20220402.int/snaphu.mask.mvame3g_.u1\n",
      "No weight file specified.  Assuming uniform weights\n",
      "Reading correlation data from file /home/jovyan/new-orleans/dolphin/unwrapped/scratch/scratch-20220309_20220402.int/snaphu.corr.e5g8cb7u.f4\n",
      "Calculating smooth-solution cost parameters\n",
      "Growing connected component mask\n",
      "Writing connected components to file /home/jovyan/new-orleans/dolphin/unwrapped/scratch/scratch-20220309_20220402.int/snaphu.conncomp.wycv8pg5.u4 as 4-byte unsigned ints\n",
      "Program snaphu done\n",
      "Elapsed processor time:   0:00:00.18\n",
      "Elapsed wall clock time:  0:00:00\n",
      "Reading unwrapped phase from file /home/jovyan/new-orleans/dolphin/unwrapped/scratch/scratch-20221116_20221222.int/snaphu.unw.qe9f1ssj.f4\n",
      "Reading interferogram magnitude from file /home/jovyan/new-orleans/dolphin/unwrapped/scratch/scratch-20221116_20221222.int/snaphu.mag.u32zysqz.f4\n",
      "Reading byte mask from file /home/jovyan/new-orleans/dolphin/unwrapped/scratch/scratch-20221116_20221222.int/snaphu.mask.lo1vfuf3.u1\n",
      "No weight file specified.  Assuming uniform weights\n",
      "Reading correlation data from file /home/jovyan/new-orleans/dolphin/unwrapped/scratch/scratch-20221116_20221222.int/snaphu.corr.msnm_nv4.f4\n",
      "Calculating smooth-solution cost parameters\n",
      "Growing connected component mask\n",
      "Writing connected components to file /home/jovyan/new-orleans/dolphin/unwrapped/scratch/scratch-20221116_20221222.int/snaphu.conncomp.90txxhq2.u4 as 4-byte unsigned ints\n",
      "Program snaphu done\n",
      "Elapsed processor time:   0:00:00.17\n",
      "Elapsed wall clock time:  0:00:00\n",
      "Creating temporary directory /home/jovyan/new-orleans/dolphin/unwrapped/scratch/scratch-20220929_20221104.int/snaphu_tiles_6037\n",
      "Unwrapping tile at row 0, column 0 (pid 6040)\n",
      "\n",
      "snaphu v2.0.7\n",
      "23 parameters input from file /home/jovyan/new-orleans/dolphin/unwrapped/scratch/scratch-20221011_20221104.int/snaphu.config.c9n3edn9.txt (23 lines total)\n",
      "\n",
      "snaphu v2.0.7\n",
      "23 parameters input from file /home/jovyan/new-orleans/dolphin/unwrapped/scratch/scratch-20220225_20220309.int/snaphu.config.jccg8f3p.txt (23 lines total)\n",
      "Unwrapping tile at row 0, column 1 (pid 6043)\n",
      "Creating temporary directory /home/jovyan/new-orleans/dolphin/unwrapped/scratch/scratch-20221011_20221104.int/snaphu_tiles_6041\n",
      "Unwrapping tile at row 0, column 0 (pid 6044)\n",
      "Creating temporary directory /home/jovyan/new-orleans/dolphin/unwrapped/scratch/scratch-20220225_20220309.int/snaphu_tiles_6042\n",
      "Unwrapping tile at row 0, column 0 (pid 6045)\n",
      "Unwrapping tile at row 1, column 0 (pid 6046)\n",
      "Unwrapping tile at row 0, column 1 (pid 6047)\n",
      "Unwrapping tile at row 0, column 1 (pid 6048)\n",
      "Unwrapping tile at row 1, column 1 (pid 6049)\n",
      "Unwrapping tile at row 1, column 0 (pid 6050)\n",
      "Unwrapping tile at row 1, column 0 (pid 6051)\n",
      "Unwrapping tile at row 1, column 1 (pid 6052)\n",
      "Unwrapping tile at row 1, column 1 (pid 6053)\n",
      "Assembling tiles\n",
      "Running optimizer for secondary network\n",
      "Number of nodes in secondary network: 402\n",
      "Flow increment: 1  (Total improvements: 0)\n",
      "Flow increment: 2  (Total improvements: 1)\n",
      "Flow increment: 3  (Total improvements: 1)\n",
      "Flow increment: 4  (Total improvements: 1)\n",
      "Assembling tile connected components\n",
      "Assembled connected components (9) output written to file /home/jovyan/new-orleans/dolphin/unwrapped/scratch/scratch-20220225_20220309.int/snaphu.conncomp.bgpfmszz.u4\n",
      "Integrating secondary flows\n",
      "Output written to file /home/jovyan/new-orleans/dolphin/unwrapped/scratch/scratch-20220225_20220309.int/snaphu.unw.3nbsn6x8.f4\n",
      "Removing temporary directory /home/jovyan/new-orleans/dolphin/unwrapped/scratch/scratch-20220225_20220309.int/snaphu_tiles_6042\n",
      "SUGGESTION: Try increasing tile overlap and/or size if solution has edge artifacts\n",
      "Program snaphu done\n",
      "Elapsed processor time:   0:00:37.30\n",
      "Elapsed wall clock time:  0:00:34\n",
      "\n",
      "snaphu v2.0.7\n",
      "15 parameters input from file /home/jovyan/new-orleans/dolphin/unwrapped/scratch/scratch-20220225_20220309.int/snaphu-regrow-conncomps.config.9akjwilx.txt (15 lines total)\n",
      "Reading unwrapped phase from file /home/jovyan/new-orleans/dolphin/unwrapped/scratch/scratch-20220225_20220309.int/snaphu.unw.3nbsn6x8.f4\n",
      "Reading interferogram magnitude from file /home/jovyan/new-orleans/dolphin/unwrapped/scratch/scratch-20220225_20220309.int/snaphu.mag.noyt0egs.f4\n",
      "Reading byte mask from file /home/jovyan/new-orleans/dolphin/unwrapped/scratch/scratch-20220225_20220309.int/snaphu.mask.qnt7sebd.u1\n",
      "No weight file specified.  Assuming uniform weights\n",
      "Reading correlation data from file /home/jovyan/new-orleans/dolphin/unwrapped/scratch/scratch-20220225_20220309.int/snaphu.corr.zdqwaw8x.f4\n",
      "Calculating smooth-solution cost parameters\n",
      "Growing connected component mask\n",
      "Writing connected components to file /home/jovyan/new-orleans/dolphin/unwrapped/scratch/scratch-20220225_20220309.int/snaphu.conncomp.bgpfmszz.u4 as 4-byte unsigned ints\n",
      "Program snaphu done\n",
      "Elapsed processor time:   0:00:00.17\n",
      "Elapsed wall clock time:  0:00:01\n",
      "\n",
      "snaphu v2.0.7\n",
      "23 parameters input from file /home/jovyan/new-orleans/dolphin/unwrapped/scratch/scratch-20220508_20220601.int/snaphu.config.3_w04ivz.txt (23 lines total)\n",
      "Assembling tiles\n",
      "Running optimizer for secondary network\n",
      "Number of nodes in secondary network: 491\n",
      "Flow increment: 1  (Total improvements: 0)\n",
      "Flow increment: 2  (Total improvements: 1)\n",
      "Flow increment: 3  (Total improvements: 1)\n",
      "Flow increment: 4  (Total improvements: 1)\n",
      "Assembling tile connected components\n",
      "Assembled connected components (14) output written to file /home/jovyan/new-orleans/dolphin/unwrapped/scratch/scratch-20220929_20221104.int/snaphu.conncomp._vlkxew3.u4\n",
      "Integrating secondary flows\n",
      "Output written to file /home/jovyan/new-orleans/dolphin/unwrapped/scratch/scratch-20220929_20221104.int/snaphu.unw.wgg10yf6.f4\n",
      "Removing temporary directory /home/jovyan/new-orleans/dolphin/unwrapped/scratch/scratch-20220929_20221104.int/snaphu_tiles_6037\n",
      "SUGGESTION: Try increasing tile overlap and/or size if solution has edge artifacts\n",
      "Program snaphu done\n",
      "Elapsed processor time:   0:00:44.37\n",
      "Elapsed wall clock time:  0:00:36\n",
      "\n",
      "snaphu v2.0.7\n",
      "15 parameters input from file /home/jovyan/new-orleans/dolphin/unwrapped/scratch/scratch-20220929_20221104.int/snaphu-regrow-conncomps.config.rlptheeg.txt (15 lines total)\n",
      "Reading unwrapped phase from file /home/jovyan/new-orleans/dolphin/unwrapped/scratch/scratch-20220929_20221104.int/snaphu.unw.wgg10yf6.f4\n",
      "Reading interferogram magnitude from file /home/jovyan/new-orleans/dolphin/unwrapped/scratch/scratch-20220929_20221104.int/snaphu.mag.e_6ye5es.f4\n",
      "Reading byte mask from file /home/jovyan/new-orleans/dolphin/unwrapped/scratch/scratch-20220929_20221104.int/snaphu.mask.agbspsz1.u1\n",
      "No weight file specified.  Assuming uniform weights\n",
      "Reading correlation data from file /home/jovyan/new-orleans/dolphin/unwrapped/scratch/scratch-20220929_20221104.int/snaphu.corr.vgjdvdct.f4\n",
      "Calculating smooth-solution cost parameters\n",
      "Growing connected component mask\n",
      "Writing connected components to file /home/jovyan/new-orleans/dolphin/unwrapped/scratch/scratch-20220929_20221104.int/snaphu.conncomp._vlkxew3.u4 as 4-byte unsigned ints\n",
      "Program snaphu done\n",
      "Elapsed processor time:   0:00:00.19\n",
      "Elapsed wall clock time:  0:00:00\n",
      "\n",
      "snaphu v2.0.7\n",
      "23 parameters input from file /home/jovyan/new-orleans/dolphin/unwrapped/scratch/scratch-20220929_20221011.int/snaphu.config.gtmjam7l.txt (23 lines total)\n",
      "Creating temporary directory /home/jovyan/new-orleans/dolphin/unwrapped/scratch/scratch-20220508_20220601.int/snaphu_tiles_6105\n",
      "Unwrapping tile at row 0, column 0 (pid 6110)\n",
      "Creating temporary directory /home/jovyan/new-orleans/dolphin/unwrapped/scratch/scratch-20220929_20221011.int/snaphu_tiles_6108\n",
      "Unwrapping tile at row 0, column 0 (pid 6112)\n",
      "Unwrapping tile at row 0, column 1 (pid 6116)\n",
      "Assembling tiles\n",
      "Running optimizer for secondary network\n",
      "Number of nodes in secondary network: 505\n",
      "Flow increment: 1  (Total improvements: 0)\n",
      "Flow increment: 2  (Total improvements: 4)\n",
      "Flow increment: 3  (Total improvements: 4)\n",
      "Flow increment: 4  (Total improvements: 4)\n",
      "Assembling tile connected components\n",
      "Assembled connected components (17) output written to file /home/jovyan/new-orleans/dolphin/unwrapped/scratch/scratch-20221011_20221104.int/snaphu.conncomp.wu4ui575.u4\n",
      "Integrating secondary flows\n",
      "Output written to file /home/jovyan/new-orleans/dolphin/unwrapped/scratch/scratch-20221011_20221104.int/snaphu.unw.33lv7da6.f4\n",
      "Removing temporary directory /home/jovyan/new-orleans/dolphin/unwrapped/scratch/scratch-20221011_20221104.int/snaphu_tiles_6041\n",
      "SUGGESTION: Try increasing tile overlap and/or size if solution has edge artifacts\n",
      "Program snaphu done\n",
      "Elapsed processor time:   0:00:45.41\n",
      "Elapsed wall clock time:  0:00:37\n",
      "\n",
      "snaphu v2.0.7\n",
      "15 parameters input from file /home/jovyan/new-orleans/dolphin/unwrapped/scratch/scratch-20221011_20221104.int/snaphu-regrow-conncomps.config._baz0ryo.txt (15 lines total)\n",
      "Unwrapping tile at row 0, column 1 (pid 6118)\n",
      "Reading unwrapped phase from file /home/jovyan/new-orleans/dolphin/unwrapped/scratch/scratch-20221011_20221104.int/snaphu.unw.33lv7da6.f4\n",
      "Reading interferogram magnitude from file /home/jovyan/new-orleans/dolphin/unwrapped/scratch/scratch-20221011_20221104.int/snaphu.mag.3a5cl979.f4\n",
      "Reading byte mask from file /home/jovyan/new-orleans/dolphin/unwrapped/scratch/scratch-20221011_20221104.int/snaphu.mask._4epr59z.u1\n",
      "No weight file specified.  Assuming uniform weights\n",
      "Reading correlation data from file /home/jovyan/new-orleans/dolphin/unwrapped/scratch/scratch-20221011_20221104.int/snaphu.corr.8err8sj0.f4\n",
      "Calculating smooth-solution cost parameters\n",
      "Growing connected component mask\n",
      "Writing connected components to file /home/jovyan/new-orleans/dolphin/unwrapped/scratch/scratch-20221011_20221104.int/snaphu.conncomp.wu4ui575.u4 as 4-byte unsigned ints\n",
      "Program snaphu done\n",
      "Elapsed processor time:   0:00:00.24\n",
      "Elapsed wall clock time:  0:00:01\n",
      "Unwrapping tile at row 1, column 0 (pid 6119)\n",
      "\n",
      "snaphu v2.0.7\n",
      "23 parameters input from file /home/jovyan/new-orleans/dolphin/unwrapped/scratch/scratch-20220120_20220225.int/snaphu.config.zqd1ddd2.txt (23 lines total)\n",
      "Unwrapping tile at row 1, column 0 (pid 6121)\n",
      "Unwrapping tile at row 1, column 1 (pid 6122)\n",
      "Creating temporary directory /home/jovyan/new-orleans/dolphin/unwrapped/scratch/scratch-20220120_20220225.int/snaphu_tiles_6120\n",
      "Unwrapping tile at row 0, column 0 (pid 6123)\n",
      "Unwrapping tile at row 1, column 1 (pid 6124)\n",
      "Unwrapping tile at row 0, column 1 (pid 6125)\n",
      "Unwrapping tile at row 1, column 0 (pid 6126)\n",
      "Unwrapping tile at row 1, column 1 (pid 6127)\n"
     ]
    }
   ],
   "source": [
    "%%capture outputs\n",
    "# To see all the output logging, remove the line above\n",
    "\n",
    "import os\n",
    "\n",
    "# TQDM doesn't play nicely with notebook outputs, not like terminal\n",
    "# os.environ[\"TQDM_DISABLE\"] = \"1\"\n",
    "\n",
    "# Running from the command line\n",
    "# !dolphin run dolphin_config.yaml\n",
    "\n",
    "# Running within python:\n",
    "from dolphin.workflows import displacement, DisplacementWorkflow\n",
    "cfg = DisplacementWorkflow.from_yaml(\"dolphin_config.yaml\")\n",
    "displacement.run(cfg)"
   ]
  },
  {
   "cell_type": "markdown",
   "id": "5df612a3-8568-4743-aa0b-9bf3f7e1ed27",
   "metadata": {},
   "source": [
    "## Visualizing the displacement\n",
    "\n",
    "The outputs can be plotted using any tool capable of reading GDAL-compatible rasters. You can also use the `dolphin.io.load_gdal` function for convenience.\n"
   ]
  },
  {
   "cell_type": "code",
   "execution_count": null,
   "id": "682685f0-7e45-4cf0-80b8-6ee18da73de0",
   "metadata": {},
   "outputs": [],
   "source": [
    "file_list = sorted(Path(\"dolphin/timeseries/\").glob(\"2*.tif\"))\n",
    "print(f\"Found {len(file_list)} timeseries files\")"
   ]
  },
  {
   "cell_type": "code",
   "execution_count": null,
   "id": "eff42555-1417-48db-a7c6-e46ecd310b52",
   "metadata": {},
   "outputs": [],
   "source": [
    "import matplotlib.pyplot as plt\n",
    "import numpy as np\n",
    "from opera_utils import get_dates\n",
    "\n",
    "from dolphin.io import load_gdal\n",
    "\n",
    "%matplotlib inline"
   ]
  },
  {
   "cell_type": "code",
   "execution_count": null,
   "id": "fa550fdb-a862-4b50-b37b-a755d13bc9c3",
   "metadata": {},
   "outputs": [],
   "source": [
    "fig, ax = plt.subplots(figsize=(6, 5))\n",
    "\n",
    "last_displacement = load_gdal(file_list[-1], masked=True)\n",
    "\n",
    "axim = ax.imshow(\n",
    "    last_displacement - np.ma.median(last_displacement),\n",
    "    cmap=\"RdBu_r\",\n",
    "    vmax=0.15,\n",
    "    vmin=-0.15,\n",
    ")\n",
    "fig.colorbar(axim, label=\"LOS [meters]\")\n",
    "\n",
    "fig.tight_layout()"
   ]
  },
  {
   "cell_type": "markdown",
   "id": "afb59985-b2d7-47ea-a5c6-8ef0aeb2da71",
   "metadata": {},
   "source": [
    "### Apppendix: More on the output folders\n",
    "\n",
    "For each stack of SLCs (which may be > 1 when processing OPERA geocoded burst SLCs), the workflow creates a folder for\n",
    "1. persistent scatter outputs (`PS`)\n",
    "2. linked phase optimized SLCs (`linked_phase`)\n",
    "3. (virtual) interferograms formed using the optimized SLCs (`interferograms`)\n",
    "\n",
    "Here we have two of these subdirectories named `t042_088905_iw1` and `t042_088906_iw1`.\n",
    "At the top level, we have\n",
    "- The `slc_stack.vrt` is a VRT file pointing to the input SLCs for that burst stack.\n",
    "- The `nodata_mask.tif` has been created from the OPERA CSLC metadata to skip over the nan regions\n",
    "- The `bounds_mask.tif` was created to more quickly process a subset of the CSLCS.\n",
    "\n",
    "Last, there are a top-level directorie for `interferograms` that have been stitched together, `unwrapped` folder for the outputs of phase unwrapping, and `timeseries` for the result of inverting in unwrapped interferograms (if a network of redundant interferograms were created).\n",
    "\n",
    "```\n",
    "$ tree -L 1 work-walkthrough/\n",
    "work-walkthrough/\n",
    "├── dolphin.log\n",
    "├── interferograms\n",
    "├── t078_165573_iw2\n",
    "├── t078_165574_iw2\n",
    "├── timeseries\n",
    "└── unwrapped\n",
    "\n",
    "$ tree -L 1 work-walkthrough/t078_165574_iw2/\n",
    "work-walkthrough/t078_165574_iw2/\n",
    "├── PS\n",
    "├── bounds_mask.tif\n",
    "├── combined_mask.tif\n",
    "├── interferograms\n",
    "├── linked_phase\n",
    "├── nodata_mask.tif\n",
    "├── slc_stack.vrt\n",
    "├── timeseries\n",
    "└── unwrapped\n",
    "    \n",
    "```"
   ]
  }
 ],
 "metadata": {
  "kernelspec": {
   "display_name": "Python [conda env:.local-dolphin_env]",
   "language": "python",
   "name": "conda-env-.local-dolphin_env-py"
  },
  "language_info": {
   "codemirror_mode": {
    "name": "ipython",
    "version": 3
   },
   "file_extension": ".py",
   "mimetype": "text/x-python",
   "name": "python",
   "nbconvert_exporter": "python",
   "pygments_lexer": "ipython3",
   "version": "3.12.11"
  }
 },
 "nbformat": 4,
 "nbformat_minor": 5
}
